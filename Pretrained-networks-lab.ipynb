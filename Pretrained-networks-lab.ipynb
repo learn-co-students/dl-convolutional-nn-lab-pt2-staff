{
 "cells": [
  {
   "cell_type": "markdown",
   "metadata": {},
   "source": [
    "# Lab: working with pretrained networks"
   ]
  },
  {
   "cell_type": "code",
   "execution_count": 72,
   "metadata": {},
   "outputs": [],
   "source": [
    "\n",
    "import os, shutil\n",
    "import time\n",
    "import matplotlib.pyplot as plt\n",
    "import scipy\n",
    "import numpy as np\n",
    "from PIL import Image\n",
    "from scipy import ndimage\n",
    "from keras.preprocessing.image import ImageDataGenerator, array_to_img\n",
    "\n",
    "np.random.seed(123)"
   ]
  },
  {
   "cell_type": "code",
   "execution_count": 73,
   "metadata": {},
   "outputs": [],
   "source": [
    "train_folder = 'split/train'\n",
    "test_folder = 'split/test'\n",
    "val_folder = 'split/validation'"
   ]
  },
  {
   "cell_type": "code",
   "execution_count": 74,
   "metadata": {},
   "outputs": [
    {
     "name": "stdout",
     "output_type": "stream",
     "text": [
      "Found 180 images belonging to 2 classes.\n",
      "Found 200 images belonging to 2 classes.\n",
      "Found 542 images belonging to 2 classes.\n"
     ]
    }
   ],
   "source": [
    "# get all the data in the directory split/test (180 images), and reshape them\n",
    "test_generator = ImageDataGenerator(rescale=1./255).flow_from_directory(\n",
    "        test_folder, \n",
    "        target_size=(64, 64), batch_size = 180) \n",
    "\n",
    "# get all the data in the directory split/validation (200 images), and reshape them\n",
    "val_generator = ImageDataGenerator(rescale=1./255).flow_from_directory(\n",
    "        val_folder, \n",
    "        target_size=(64, 64), batch_size = 200)\n",
    "\n",
    "# get all the data in the directory split/train (542 images), and reshape them\n",
    "train_generator = ImageDataGenerator(rescale=1./255).flow_from_directory(\n",
    "        train_folder, \n",
    "        target_size=(64, 64), batch_size=540)"
   ]
  },
  {
   "cell_type": "markdown",
   "metadata": {},
   "source": [
    "To get the data as a whole, just take a batch size equal to the entire training, test and validation set and use `next()` to get the images and labels."
   ]
  },
  {
   "cell_type": "code",
   "execution_count": 75,
   "metadata": {},
   "outputs": [],
   "source": [
    "train_images, train_labels = next(train_generator)\n",
    "test_images, test_labels = next(test_generator)\n",
    "val_images, val_labels = next(val_generator)"
   ]
  },
  {
   "cell_type": "code",
   "execution_count": 77,
   "metadata": {},
   "outputs": [],
   "source": [
    "train_y = np.reshape(train_labels[:,0], (540,1))\n",
    "test_y = np.reshape(test_labels[:,0], (180,1))\n",
    "val_y = np.reshape(val_labels[:,0], (200,1))"
   ]
  },
  {
   "cell_type": "code",
   "execution_count": 80,
   "metadata": {},
   "outputs": [],
   "source": [
    "datagen = ImageDataGenerator(rescale=1./255) \n",
    "batch_size = 10"
   ]
  },
  {
   "cell_type": "markdown",
   "metadata": {},
   "source": [
    "## feature_extraction"
   ]
  },
  {
   "cell_type": "code",
   "execution_count": 97,
   "metadata": {},
   "outputs": [
    {
     "name": "stdout",
     "output_type": "stream",
     "text": [
      "Train on 540 samples, validate on 200 samples\n",
      "Epoch 1/20\n",
      "540/540 [==============================] - 1s 2ms/step - loss: 0.4080 - acc: 0.8519 - val_loss: 0.2941 - val_acc: 0.9000\n",
      "Epoch 2/20\n",
      "540/540 [==============================] - 1s 1ms/step - loss: 0.2382 - acc: 0.9130 - val_loss: 0.2228 - val_acc: 0.9200\n",
      "Epoch 3/20\n",
      "540/540 [==============================] - 1s 1ms/step - loss: 0.1837 - acc: 0.9315 - val_loss: 0.2081 - val_acc: 0.9150\n",
      "Epoch 4/20\n",
      "540/540 [==============================] - 1s 1ms/step - loss: 0.1499 - acc: 0.9574 - val_loss: 0.1884 - val_acc: 0.9100\n",
      "Epoch 5/20\n",
      "540/540 [==============================] - 1s 1ms/step - loss: 0.1292 - acc: 0.9593 - val_loss: 0.1793 - val_acc: 0.9250\n",
      "Epoch 6/20\n",
      "540/540 [==============================] - 1s 1ms/step - loss: 0.1158 - acc: 0.9648 - val_loss: 0.1667 - val_acc: 0.9350\n",
      "Epoch 7/20\n",
      "540/540 [==============================] - 1s 1ms/step - loss: 0.0986 - acc: 0.9778 - val_loss: 0.1622 - val_acc: 0.9350\n",
      "Epoch 8/20\n",
      "540/540 [==============================] - 1s 1ms/step - loss: 0.0866 - acc: 0.9778 - val_loss: 0.1574 - val_acc: 0.9350\n",
      "Epoch 9/20\n",
      "540/540 [==============================] - 1s 1ms/step - loss: 0.0770 - acc: 0.9833 - val_loss: 0.1530 - val_acc: 0.9350\n",
      "Epoch 10/20\n",
      "540/540 [==============================] - 1s 1ms/step - loss: 0.0674 - acc: 0.9852 - val_loss: 0.1559 - val_acc: 0.9400\n",
      "Epoch 11/20\n",
      "540/540 [==============================] - 1s 1ms/step - loss: 0.0583 - acc: 0.9889 - val_loss: 0.1527 - val_acc: 0.9350\n",
      "Epoch 12/20\n",
      "540/540 [==============================] - 1s 1ms/step - loss: 0.0526 - acc: 0.9889 - val_loss: 0.1537 - val_acc: 0.9350\n",
      "Epoch 13/20\n",
      "540/540 [==============================] - 1s 1ms/step - loss: 0.0455 - acc: 0.9963 - val_loss: 0.1543 - val_acc: 0.9350\n",
      "Epoch 14/20\n",
      "540/540 [==============================] - 1s 1ms/step - loss: 0.0407 - acc: 0.9944 - val_loss: 0.1529 - val_acc: 0.9400\n",
      "Epoch 15/20\n",
      "540/540 [==============================] - 1s 1ms/step - loss: 0.0362 - acc: 0.9963 - val_loss: 0.1533 - val_acc: 0.9400\n",
      "Epoch 16/20\n",
      "540/540 [==============================] - 1s 1ms/step - loss: 0.0305 - acc: 0.9981 - val_loss: 0.1645 - val_acc: 0.9400\n",
      "Epoch 17/20\n",
      "540/540 [==============================] - 1s 1ms/step - loss: 0.0279 - acc: 0.9963 - val_loss: 0.1593 - val_acc: 0.9400\n",
      "Epoch 18/20\n",
      "540/540 [==============================] - 1s 1ms/step - loss: 0.0229 - acc: 0.9963 - val_loss: 0.1580 - val_acc: 0.9350\n",
      "Epoch 19/20\n",
      "540/540 [==============================] - 1s 1ms/step - loss: 0.0211 - acc: 0.9981 - val_loss: 0.1666 - val_acc: 0.9400\n",
      "Epoch 20/20\n",
      "540/540 [==============================] - 1s 1ms/step - loss: 0.0175 - acc: 0.9963 - val_loss: 0.1621 - val_acc: 0.9350\n"
     ]
    }
   ],
   "source": [
    "from keras import models\n",
    "from keras import layers\n",
    "from keras import optimizers\n",
    "\n",
    "model = models.Sequential()\n",
    "model.add(layers.Dense(256, activation='relu', input_dim=2 * 2 * 512))\n",
    "model.add(layers.Dense(1, activation='sigmoid'))\n",
    "\n",
    "model.compile(optimizer=optimizers.RMSprop(lr=1e-4),\n",
    "              loss='binary_crossentropy',\n",
    "              metrics=['acc'])\n",
    "history = model.fit(train_features, train_labels,\n",
    "                    epochs=20,\n",
    "                    batch_size=10,\n",
    "                    validation_data=(validation_features, validation_labels))"
   ]
  },
  {
   "cell_type": "code",
   "execution_count": 82,
   "metadata": {},
   "outputs": [
    {
     "name": "stdout",
     "output_type": "stream",
     "text": [
      "Found 542 images belonging to 2 classes.\n",
      "Found 200 images belonging to 2 classes.\n",
      "Found 180 images belonging to 2 classes.\n"
     ]
    }
   ],
   "source": [
    "def extract_features(directory, sample_amount):\n",
    "    features = np.zeros(shape=(sample_amount, 2, 2, 512)) \n",
    "    labels = np.zeros(shape=(sample_amount))\n",
    "    generator = datagen.flow_from_directory(\n",
    "        directory, target_size=(64, 64), \n",
    "        batch_size = 10, \n",
    "        class_mode='binary')\n",
    "    i=0\n",
    "    for inputs_batch, labels_batch in generator:\n",
    "        features_batch = base.predict(inputs_batch)\n",
    "        features[i * batch_size : (i + 1) * batch_size] = features_batch \n",
    "        labels[i * batch_size : (i + 1) * batch_size] = labels_batch\n",
    "        i = i + 1\n",
    "        if i * batch_size >= sample_amount:\n",
    "            break\n",
    "    return features, labels\n",
    "\n",
    "# you should be able to divide sample_amount by batch_size!!\n",
    "train_features, train_labels = extract_features(train_folder, 540) \n",
    "validation_features, validation_labels = extract_features(val_folder, 200) \n",
    "test_features, test_labels = extract_features(test_folder, 180)\n",
    "\n",
    "train_features = np.reshape(train_features, (540, 2 * 2 * 512))\n",
    "validation_features = np.reshape(validation_features, (200, 2 * 2 * 512))\n",
    "test_features = np.reshape(test_features, (180, 2 * 2 * 512))"
   ]
  },
  {
   "cell_type": "code",
   "execution_count": 98,
   "metadata": {},
   "outputs": [
    {
     "name": "stdout",
     "output_type": "stream",
     "text": [
      "180/180 [==============================] - 0s 132us/step\n"
     ]
    }
   ],
   "source": [
    "results_test = model.evaluate(test_features, test_labels)"
   ]
  },
  {
   "cell_type": "code",
   "execution_count": 99,
   "metadata": {},
   "outputs": [
    {
     "data": {
      "text/plain": [
       "[0.25797933108276794, 0.9055555529064603]"
      ]
     },
     "execution_count": 99,
     "metadata": {},
     "output_type": "execute_result"
    }
   ],
   "source": [
    "results_test"
   ]
  },
  {
   "cell_type": "markdown",
   "metadata": {},
   "source": [
    "## feature extraction"
   ]
  },
  {
   "cell_type": "code",
   "execution_count": 103,
   "metadata": {},
   "outputs": [
    {
     "name": "stdout",
     "output_type": "stream",
     "text": [
      "Downloading data from https://github.com/fchollet/deep-learning-models/releases/download/v0.1/vgg19_weights_tf_dim_ordering_tf_kernels_notop.h5\n",
      "80142336/80134624 [==============================] - 15s 0us/step\n"
     ]
    }
   ],
   "source": [
    "from keras.applications import VGG19\n",
    "base_19 = VGG19(weights='imagenet',\n",
    "                  include_top=False,\n",
    "                  input_shape=(64, 64, 3))"
   ]
  },
  {
   "cell_type": "code",
   "execution_count": 104,
   "metadata": {},
   "outputs": [
    {
     "name": "stdout",
     "output_type": "stream",
     "text": [
      "_________________________________________________________________\n",
      "Layer (type)                 Output Shape              Param #   \n",
      "=================================================================\n",
      "input_5 (InputLayer)         (None, 64, 64, 3)         0         \n",
      "_________________________________________________________________\n",
      "block1_conv1 (Conv2D)        (None, 64, 64, 64)        1792      \n",
      "_________________________________________________________________\n",
      "block1_conv2 (Conv2D)        (None, 64, 64, 64)        36928     \n",
      "_________________________________________________________________\n",
      "block1_pool (MaxPooling2D)   (None, 32, 32, 64)        0         \n",
      "_________________________________________________________________\n",
      "block2_conv1 (Conv2D)        (None, 32, 32, 128)       73856     \n",
      "_________________________________________________________________\n",
      "block2_conv2 (Conv2D)        (None, 32, 32, 128)       147584    \n",
      "_________________________________________________________________\n",
      "block2_pool (MaxPooling2D)   (None, 16, 16, 128)       0         \n",
      "_________________________________________________________________\n",
      "block3_conv1 (Conv2D)        (None, 16, 16, 256)       295168    \n",
      "_________________________________________________________________\n",
      "block3_conv2 (Conv2D)        (None, 16, 16, 256)       590080    \n",
      "_________________________________________________________________\n",
      "block3_conv3 (Conv2D)        (None, 16, 16, 256)       590080    \n",
      "_________________________________________________________________\n",
      "block3_conv4 (Conv2D)        (None, 16, 16, 256)       590080    \n",
      "_________________________________________________________________\n",
      "block3_pool (MaxPooling2D)   (None, 8, 8, 256)         0         \n",
      "_________________________________________________________________\n",
      "block4_conv1 (Conv2D)        (None, 8, 8, 512)         1180160   \n",
      "_________________________________________________________________\n",
      "block4_conv2 (Conv2D)        (None, 8, 8, 512)         2359808   \n",
      "_________________________________________________________________\n",
      "block4_conv3 (Conv2D)        (None, 8, 8, 512)         2359808   \n",
      "_________________________________________________________________\n",
      "block4_conv4 (Conv2D)        (None, 8, 8, 512)         2359808   \n",
      "_________________________________________________________________\n",
      "block4_pool (MaxPooling2D)   (None, 4, 4, 512)         0         \n",
      "_________________________________________________________________\n",
      "block5_conv1 (Conv2D)        (None, 4, 4, 512)         2359808   \n",
      "_________________________________________________________________\n",
      "block5_conv2 (Conv2D)        (None, 4, 4, 512)         2359808   \n",
      "_________________________________________________________________\n",
      "block5_conv3 (Conv2D)        (None, 4, 4, 512)         2359808   \n",
      "_________________________________________________________________\n",
      "block5_conv4 (Conv2D)        (None, 4, 4, 512)         2359808   \n",
      "_________________________________________________________________\n",
      "block5_pool (MaxPooling2D)   (None, 2, 2, 512)         0         \n",
      "=================================================================\n",
      "Total params: 20,024,384\n",
      "Trainable params: 20,024,384\n",
      "Non-trainable params: 0\n",
      "_________________________________________________________________\n"
     ]
    }
   ],
   "source": [
    "base_19.summary()"
   ]
  },
  {
   "cell_type": "code",
   "execution_count": 106,
   "metadata": {},
   "outputs": [
    {
     "name": "stdout",
     "output_type": "stream",
     "text": [
      "Found 542 images belonging to 2 classes.\n",
      "Found 200 images belonging to 2 classes.\n",
      "Found 180 images belonging to 2 classes.\n"
     ]
    }
   ],
   "source": [
    "def extract_features(directory, sample_amount):\n",
    "    features = np.zeros(shape=(sample_amount, 2, 2, 512)) \n",
    "    labels = np.zeros(shape=(sample_amount))\n",
    "    generator = datagen.flow_from_directory(\n",
    "        directory, target_size=(64, 64), \n",
    "        batch_size = 10, \n",
    "        class_mode='binary')\n",
    "    i=0\n",
    "    for inputs_batch, labels_batch in generator:\n",
    "        features_batch = base_19.predict(inputs_batch)\n",
    "        features[i * batch_size : (i + 1) * batch_size] = features_batch \n",
    "        labels[i * batch_size : (i + 1) * batch_size] = labels_batch\n",
    "        i = i + 1\n",
    "        if i * batch_size >= sample_amount:\n",
    "            break\n",
    "    return features, labels\n",
    "\n",
    "# you should be able to divide sample_amount by batch_size!!\n",
    "train_features, train_labels = extract_features(train_folder, 540) \n",
    "validation_features, validation_labels = extract_features(val_folder, 200) \n",
    "test_features, test_labels = extract_features(test_folder, 180)\n",
    "\n",
    "train_features = np.reshape(train_features, (540, 2 * 2 * 512))\n",
    "validation_features = np.reshape(validation_features, (200, 2 * 2 * 512))\n",
    "test_features = np.reshape(test_features, (180, 2 * 2 * 512))"
   ]
  },
  {
   "cell_type": "code",
   "execution_count": 107,
   "metadata": {},
   "outputs": [
    {
     "name": "stdout",
     "output_type": "stream",
     "text": [
      "Train on 540 samples, validate on 200 samples\n",
      "Epoch 1/20\n",
      "540/540 [==============================] - 1s 3ms/step - loss: 0.4125 - acc: 0.8537 - val_loss: 0.2754 - val_acc: 0.9350\n",
      "Epoch 2/20\n",
      "540/540 [==============================] - 1s 1ms/step - loss: 0.2447 - acc: 0.9259 - val_loss: 0.1959 - val_acc: 0.9500\n",
      "Epoch 3/20\n",
      "540/540 [==============================] - 1s 1ms/step - loss: 0.1858 - acc: 0.9519 - val_loss: 0.1725 - val_acc: 0.9550\n",
      "Epoch 4/20\n",
      "540/540 [==============================] - 1s 1ms/step - loss: 0.1489 - acc: 0.9556 - val_loss: 0.1522 - val_acc: 0.9550\n",
      "Epoch 5/20\n",
      "540/540 [==============================] - 1s 1ms/step - loss: 0.1199 - acc: 0.9704 - val_loss: 0.1440 - val_acc: 0.9400\n",
      "Epoch 6/20\n",
      "540/540 [==============================] - 1s 1ms/step - loss: 0.1019 - acc: 0.9667 - val_loss: 0.1425 - val_acc: 0.9400\n",
      "Epoch 7/20\n",
      "540/540 [==============================] - 1s 1ms/step - loss: 0.0851 - acc: 0.9722 - val_loss: 0.1474 - val_acc: 0.9400\n",
      "Epoch 8/20\n",
      "540/540 [==============================] - 1s 1ms/step - loss: 0.0761 - acc: 0.9759 - val_loss: 0.1377 - val_acc: 0.9400\n",
      "Epoch 9/20\n",
      "540/540 [==============================] - 1s 1ms/step - loss: 0.0649 - acc: 0.9852 - val_loss: 0.1291 - val_acc: 0.9500\n",
      "Epoch 10/20\n",
      "540/540 [==============================] - 1s 1ms/step - loss: 0.0552 - acc: 0.9889 - val_loss: 0.1292 - val_acc: 0.9400\n",
      "Epoch 11/20\n",
      "540/540 [==============================] - 1s 1ms/step - loss: 0.0480 - acc: 0.9907 - val_loss: 0.1368 - val_acc: 0.9450\n",
      "Epoch 12/20\n",
      "540/540 [==============================] - 1s 1ms/step - loss: 0.0410 - acc: 0.9944 - val_loss: 0.1319 - val_acc: 0.9400\n",
      "Epoch 13/20\n",
      "540/540 [==============================] - 1s 2ms/step - loss: 0.0322 - acc: 0.9981 - val_loss: 0.1307 - val_acc: 0.9500\n",
      "Epoch 14/20\n",
      "540/540 [==============================] - 1s 2ms/step - loss: 0.0285 - acc: 0.9963 - val_loss: 0.1332 - val_acc: 0.9500\n",
      "Epoch 15/20\n",
      "540/540 [==============================] - 1s 1ms/step - loss: 0.0237 - acc: 0.9981 - val_loss: 0.1678 - val_acc: 0.9400\n",
      "Epoch 16/20\n",
      "540/540 [==============================] - 1s 1ms/step - loss: 0.0213 - acc: 0.9981 - val_loss: 0.1402 - val_acc: 0.9400\n",
      "Epoch 17/20\n",
      "540/540 [==============================] - 1s 1ms/step - loss: 0.0175 - acc: 1.0000 - val_loss: 0.1568 - val_acc: 0.9500\n",
      "Epoch 18/20\n",
      "540/540 [==============================] - 1s 1ms/step - loss: 0.0155 - acc: 1.0000 - val_loss: 0.1401 - val_acc: 0.9450\n",
      "Epoch 19/20\n",
      "540/540 [==============================] - 1s 1ms/step - loss: 0.0128 - acc: 0.9981 - val_loss: 0.1450 - val_acc: 0.9450\n",
      "Epoch 20/20\n",
      "540/540 [==============================] - 1s 1ms/step - loss: 0.0111 - acc: 1.0000 - val_loss: 0.1583 - val_acc: 0.9400\n"
     ]
    }
   ],
   "source": [
    "datagen = ImageDataGenerator(rescale=1./255) \n",
    "batch_size = 10\n",
    "\n",
    "from keras import models\n",
    "from keras import layers\n",
    "from keras import optimizers\n",
    "\n",
    "model = models.Sequential()\n",
    "model.add(layers.Dense(256, activation='relu', input_dim=2 * 2 * 512))\n",
    "model.add(layers.Dense(1, activation='sigmoid'))\n",
    "\n",
    "model.compile(optimizer=optimizers.RMSprop(lr=1e-4),\n",
    "              loss='binary_crossentropy',\n",
    "              metrics=['acc'])\n",
    "history = model.fit(train_features, train_labels,\n",
    "                    epochs=20,\n",
    "                    batch_size=10,\n",
    "                    validation_data=(validation_features, validation_labels))"
   ]
  },
  {
   "cell_type": "code",
   "execution_count": 108,
   "metadata": {},
   "outputs": [
    {
     "name": "stdout",
     "output_type": "stream",
     "text": [
      "180/180 [==============================] - 0s 158us/step\n"
     ]
    },
    {
     "data": {
      "text/plain": [
       "[0.23585006925794813, 0.9333333320087857]"
      ]
     },
     "execution_count": 108,
     "metadata": {},
     "output_type": "execute_result"
    }
   ],
   "source": [
    "results_test = model.evaluate(test_features, test_labels)\n",
    "results_test"
   ]
  },
  {
   "cell_type": "code",
   "execution_count": 111,
   "metadata": {},
   "outputs": [
    {
     "data": {
      "image/png": "[encoded data removed]",
      "text/plain": [
       "<matplotlib.figure.Figure at 0x1836ce7da0>"
      ]
     },
     "metadata": {},
     "output_type": "display_data"
    },
    {
     "data": {
      "image/png": "[encoded data removed]",
      "text/plain": [
       "<matplotlib.figure.Figure at 0x18380542e8>"
      ]
     },
     "metadata": {},
     "output_type": "display_data"
    }
   ],
   "source": [
    "train_acc = history.history['acc']\n",
    "val_acc = history.history['val_acc']\n",
    "train_loss = history.history['loss']\n",
    "val_loss = history.history['val_loss']\n",
    "epchs = range(1, len(train_acc) + 1)\n",
    "plt.plot(epochs, train_acc, 'g.', label='Training Accuracy')\n",
    "plt.plot(epochs, val_acc, 'g', label='Validation acc')\n",
    "plt.title('Accuracy trend')\n",
    "plt.legend()\n",
    "plt.figure()\n",
    "plt.plot(epochs, train_loss, 'r.', label='Training loss')\n",
    "plt.plot(epochs, val_loss, 'r', label='Validation loss')\n",
    "plt.title('Loss trend')\n",
    "plt.legend()\n",
    "plt.show()"
   ]
  },
  {
   "cell_type": "markdown",
   "metadata": {},
   "source": [
    "Using VGG19 we were able to get test set performance up to more than 93% quite impressive!"
   ]
  },
  {
   "cell_type": "code",
   "execution_count": null,
   "metadata": {},
   "outputs": [],
   "source": []
  }
 ],
 "metadata": {
  "kernelspec": {
   "display_name": "Python 3",
   "language": "python",
   "name": "python3"
  },
  "language_info": {
   "codemirror_mode": {
    "name": "ipython",
    "version": 3
   },
   "file_extension": ".py",
   "mimetype": "text/x-python",
   "name": "python",
   "nbconvert_exporter": "python",
   "pygments_lexer": "ipython3",
   "version": "3.6.4"
  }
 },
 "nbformat": 4,
 "nbformat_minor": 2
}
