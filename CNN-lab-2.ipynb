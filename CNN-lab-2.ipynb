{
 "cells": [
  {
   "cell_type": "markdown",
   "metadata": {},
   "source": [
    "# Convolutional neural nets lab"
   ]
  },
  {
   "cell_type": "markdown",
   "metadata": {},
   "source": [
    "# 1 Let's run the santa example in Keras"
   ]
  },
  {
   "cell_type": "code",
   "execution_count": 2,
   "metadata": {},
   "outputs": [
    {
     "name": "stderr",
     "output_type": "stream",
     "text": [
      "/anaconda3/lib/python3.6/site-packages/h5py/__init__.py:36: FutureWarning: Conversion of the second argument of issubdtype from `float` to `np.floating` is deprecated. In future, it will be treated as `np.float64 == np.dtype(float).type`.\n",
      "  from ._conv import register_converters as _register_converters\n",
      "Using TensorFlow backend.\n"
     ]
    }
   ],
   "source": [
    "import time\n",
    "import matplotlib.pyplot as plt\n",
    "import scipy\n",
    "import numpy as np\n",
    "from PIL import Image\n",
    "from scipy import ndimage\n",
    "from keras.preprocessing.image import ImageDataGenerator, array_to_img, img_to_array, load_img\n",
    "\n",
    "np.random.seed(1)"
   ]
  },
  {
   "cell_type": "code",
   "execution_count": null,
   "metadata": {},
   "outputs": [],
   "source": [
    "# directory path\n",
    "train_data_dir = 'data/train'\n",
    "test_data_dir = 'data/validation'\n",
    "\n",
    "# get all the data in the directory data/validation (132 images), and reshape them\n",
    "test_generator = ImageDataGenerator().flow_from_directory(\n",
    "        test_data_dir, \n",
    "        target_size=(64, 64), batch_size=132) \n",
    "\n",
    "# get all the data in the directory data/train (790 images), and reshape them\n",
    "train_generator = ImageDataGenerator().flow_from_directory(\n",
    "        train_data_dir, \n",
    "        target_size=(64, 64), batch_size=790)\n",
    "\n",
    "# create the data sets\n",
    "train_images, train_labels = next(train_generator)\n",
    "test_images, test_labels = next(test_generator)"
   ]
  },
  {
   "cell_type": "code",
   "execution_count": null,
   "metadata": {},
   "outputs": [],
   "source": [
    "# Explore your dataset again\n",
    "m_train = train_images.shape[0]\n",
    "num_px = train_images.shape[1]\n",
    "m_test = test_images.shape[0]\n",
    "\n",
    "print (\"Number of training examples: \" + str(m_train))\n",
    "print (\"Number of testing examples: \" + str(m_test))\n",
    "print (\"Each image is of size: (\" + str(num_px) + \", \" + str(num_px) + \", 3)\")\n",
    "print (\"train_images shape: \" + str(train_images.shape))\n",
    "print (\"train_labels shape: \" + str(train_labels.shape))\n",
    "print (\"test_images_orig shape: \" + str(test_images.shape))\n",
    "print (\"test_labels shape: \" + str(test_labels.shape))"
   ]
  },
  {
   "cell_type": "code",
   "execution_count": null,
   "metadata": {},
   "outputs": [],
   "source": [
    "# Reshape the training and test examples \n",
    "train_img = train_images.reshape(train_images.shape[0], -1)  # The \"-1\" makes reshape flatten the remaining dimensions\n",
    "test_img = test_images.reshape(test_images.shape[0], -1)\n",
    "\n",
    "# Standardize data to have feature values between 0 and 1.\n",
    "train_x = train_img/255.\n",
    "test_x = test_img/255.\n",
    "\n",
    "print (\"train_x's shape: \" + str(train_img.shape))\n",
    "print (\"test_x's shape: \" + str(test_img.shape))"
   ]
  },
  {
   "cell_type": "code",
   "execution_count": null,
   "metadata": {},
   "outputs": [],
   "source": [
    "# Reshape the labels\n",
    "train_y = train_labels[:,0]\n",
    "train_y = np.reshape(train_y, (790,1))\n",
    "\n",
    "test_y = test_labels[:,0]\n",
    "test_y = np.reshape(test_y, (132, 1))\n",
    "\n",
    "print (\"train_y's shape: \" + str(train_y.shape))\n",
    "print (\"test_y's shape: \" + str(test_y.shape))"
   ]
  },
  {
   "cell_type": "code",
   "execution_count": null,
   "metadata": {},
   "outputs": [],
   "source": [
    "from keras import models\n",
    "from keras import layers\n",
    "model = models.Sequential()\n",
    "model.add(layers.Dense(20, activation='relu', input_shape=(12288,))) #2 hidden layers\n",
    "model.add(layers.Dense(7, activation='relu'))\n",
    "model.add(layers.Dense(5, activation='relu'))\n",
    "model.add(layers.Dense(1, activation='sigmoid'))"
   ]
  },
  {
   "cell_type": "code",
   "execution_count": null,
   "metadata": {},
   "outputs": [],
   "source": [
    "model.compile(optimizer='rmsprop',\n",
    "              loss='binary_crossentropy',\n",
    "              metrics=['accuracy'])"
   ]
  },
  {
   "cell_type": "code",
   "execution_count": null,
   "metadata": {},
   "outputs": [],
   "source": [
    "history = model.fit(train_x,\n",
    "                    train_y,\n",
    "                    epochs=50,\n",
    "                    batch_size=34,\n",
    "                    validation_data=(test_x, test_y))"
   ]
  },
  {
   "cell_type": "markdown",
   "metadata": {},
   "source": [
    "# 2. Let's see how we can perform data augmentation in Keras"
   ]
  },
  {
   "cell_type": "code",
   "execution_count": null,
   "metadata": {},
   "outputs": [],
   "source": [
    "datagen = ImageDataGenerator(\n",
    "      rotation_range=40,\n",
    "      width_shift_range=0.2,\n",
    "      height_shift_range=0.2,\n",
    "      shear_range=0.2,\n",
    "      zoom_range=0.2,\n",
    "      horizontal_flip=True,\n",
    "      fill_mode='nearest')"
   ]
  },
  {
   "cell_type": "code",
   "execution_count": null,
   "metadata": {},
   "outputs": [],
   "source": [
    "from keras.preprocessing import image\n",
    "import os"
   ]
  },
  {
   "cell_type": "code",
   "execution_count": null,
   "metadata": {},
   "outputs": [],
   "source": [
    "santa_dir= 'data/train/santa'\n",
    "fnames = [os.path.join(santa_dir, fname) for\n",
    "     fname in os.listdir(santa_dir)]\n",
    "img_path = fnames[3]\n",
    "img = image.load_img(img_path, target_size=(64, 64))\n",
    "\n",
    "arrayimg = image.img_to_array(img) \n",
    "arrayimg = arrayimg.reshape((1,) + arrayimg.shape) \n",
    "i=0\n",
    "for batch in datagen.flow(x, batch_size=1):\n",
    "    plt.figure(i)\n",
    "    imgplot = plt.imshow(image.array_to_img(batch[0]))\n",
    "    i += 1\n",
    "    if i % 8 == 0:\n",
    "        break\n",
    "plt.show()"
   ]
  },
  {
   "cell_type": "markdown",
   "metadata": {},
   "source": [
    "# 2. Conv net without data augmentation"
   ]
  },
  {
   "cell_type": "code",
   "execution_count": 51,
   "metadata": {},
   "outputs": [
    {
     "name": "stdout",
     "output_type": "stream",
     "text": [
      "Found 132 images belonging to 2 classes.\n",
      "Found 790 images belonging to 2 classes.\n"
     ]
    }
   ],
   "source": [
    "# directory path\n",
    "train_data_dir = 'data/train'\n",
    "test_data_dir = 'data/validation'\n",
    "\n",
    "# get all the data in the directory data/validation (132 images), and reshape them\n",
    "test_generator = ImageDataGenerator().flow_from_directory(\n",
    "        test_data_dir, \n",
    "        target_size=(64, 64), batch_size=132) \n",
    "\n",
    "# get all the data in the directory data/train (790 images), and reshape them\n",
    "train_generator = ImageDataGenerator().flow_from_directory(\n",
    "        train_data_dir, \n",
    "        target_size=(64, 64), batch_size=790)\n",
    "\n",
    "# create the data sets\n",
    "train_images, train_labels = next(train_generator)\n",
    "test_images, test_labels = next(test_generator)"
   ]
  },
  {
   "cell_type": "code",
   "execution_count": 57,
   "metadata": {},
   "outputs": [
    {
     "name": "stdout",
     "output_type": "stream",
     "text": [
      "train_x's shape: (790, 12288)\n",
      "test_x's shape: (132, 12288)\n"
     ]
    },
    {
     "data": {
      "text/plain": [
       "(790, 64, 64, 3)"
      ]
     },
     "execution_count": 57,
     "metadata": {},
     "output_type": "execute_result"
    }
   ],
   "source": [
    "# Reshape the training and test examples \n",
    "train_img = train_images.reshape(train_images.shape[0], -1)  # The \"-1\" makes reshape flatten the remaining dimensions\n",
    "test_img = test_images.reshape(test_images.shape[0], -1)\n",
    "\n",
    "# Standardize data to have feature values between 0 and 1.\n",
    "train_x = train_images/255.\n",
    "test_x = test_images/255.\n",
    "\n",
    "print (\"train_x's shape: \" + str(train_img.shape))\n",
    "print (\"test_x's shape: \" + str(test_img.shape))\n",
    "\n",
    "np.shape(train_x)"
   ]
  },
  {
   "cell_type": "code",
   "execution_count": 58,
   "metadata": {},
   "outputs": [
    {
     "name": "stdout",
     "output_type": "stream",
     "text": [
      "train_y's shape: (790, 1)\n",
      "test_y's shape: (132, 1)\n"
     ]
    }
   ],
   "source": [
    "# Reshape the labels\n",
    "train_y = train_labels[:,0]\n",
    "train_y = np.reshape(train_y, (790,1))\n",
    "\n",
    "test_y = test_labels[:,0]\n",
    "test_y = np.reshape(test_y, (132, 1))\n",
    "\n",
    "print (\"train_y's shape: \" + str(train_y.shape))\n",
    "print (\"test_y's shape: \" + str(test_y.shape))"
   ]
  },
  {
   "cell_type": "code",
   "execution_count": 59,
   "metadata": {},
   "outputs": [],
   "source": [
    "from keras import models\n",
    "from keras import layers\n",
    "model = models.Sequential()\n",
    "model.add(layers.Conv2D(32, (4, 4), input_shape=(64 ,64,  3)))\n",
    "model.add(layers.Activation('relu'))\n",
    "model.add(layers.MaxPooling2D(pool_size=(2, 2)))\n",
    "\n",
    "model.add(layers.Conv2D(32, (4, 4)))\n",
    "model.add(layers.Activation('relu'))\n",
    "model.add(layers.MaxPooling2D(pool_size=(2, 2)))\n",
    "\n",
    "model.add(layers.Conv2D(64, (4, 4)))\n",
    "model.add(layers.Activation('relu'))\n",
    "model.add(layers.MaxPooling2D(pool_size=(2, 2)))\n",
    "\n",
    "model.add(layers.Flatten())\n",
    "model.add(layers.Dense(64))\n",
    "model.add(layers.Activation('relu'))\n",
    "model.add(layers.Dense(1, activation='sigmoid'))"
   ]
  },
  {
   "cell_type": "code",
   "execution_count": 61,
   "metadata": {},
   "outputs": [],
   "source": [
    "model.compile(optimizer='rmsprop',\n",
    "              loss='binary_crossentropy',\n",
    "              metrics=['accuracy'])"
   ]
  },
  {
   "cell_type": "code",
   "execution_count": 63,
   "metadata": {},
   "outputs": [
    {
     "name": "stdout",
     "output_type": "stream",
     "text": [
      "Train on 790 samples, validate on 132 samples\n",
      "Epoch 1/20\n",
      "790/790 [==============================] - 7s 9ms/step - loss: 0.1017 - acc: 0.9772 - val_loss: 0.4710 - val_acc: 0.8636\n",
      "Epoch 2/20\n",
      "790/790 [==============================] - 7s 9ms/step - loss: 0.0286 - acc: 0.9937 - val_loss: 1.0134 - val_acc: 0.7727\n",
      "Epoch 3/20\n",
      "790/790 [==============================] - 7s 9ms/step - loss: 0.0808 - acc: 0.9747 - val_loss: 0.4252 - val_acc: 0.8939\n",
      "Epoch 4/20\n",
      "790/790 [==============================] - 8s 10ms/step - loss: 0.0325 - acc: 0.9911 - val_loss: 0.4709 - val_acc: 0.8712\n",
      "Epoch 5/20\n",
      "790/790 [==============================] - 7s 9ms/step - loss: 0.0799 - acc: 0.9835 - val_loss: 0.5040 - val_acc: 0.8712\n",
      "Epoch 6/20\n",
      "790/790 [==============================] - 8s 10ms/step - loss: 0.0184 - acc: 0.9911 - val_loss: 0.5853 - val_acc: 0.8636\n",
      "Epoch 7/20\n",
      "790/790 [==============================] - 8s 10ms/step - loss: 0.0773 - acc: 0.9810 - val_loss: 0.4794 - val_acc: 0.8636\n",
      "Epoch 8/20\n",
      "790/790 [==============================] - 8s 10ms/step - loss: 0.0095 - acc: 0.9975 - val_loss: 0.5243 - val_acc: 0.8561\n",
      "Epoch 9/20\n",
      "790/790 [==============================] - 8s 10ms/step - loss: 0.0288 - acc: 0.9886 - val_loss: 0.6256 - val_acc: 0.8636\n",
      "Epoch 10/20\n",
      "790/790 [==============================] - 7s 9ms/step - loss: 0.0380 - acc: 0.9911 - val_loss: 0.6759 - val_acc: 0.8636\n",
      "Epoch 11/20\n",
      "790/790 [==============================] - 7s 9ms/step - loss: 0.0230 - acc: 0.9937 - val_loss: 0.6646 - val_acc: 0.8561\n",
      "Epoch 12/20\n",
      "790/790 [==============================] - 7s 9ms/step - loss: 0.0058 - acc: 0.9987 - val_loss: 1.3438 - val_acc: 0.8106\n",
      "Epoch 13/20\n",
      "790/790 [==============================] - 8s 10ms/step - loss: 0.0483 - acc: 0.9873 - val_loss: 0.6709 - val_acc: 0.8788\n",
      "Epoch 14/20\n",
      "790/790 [==============================] - 7s 9ms/step - loss: 9.5690e-04 - acc: 1.0000 - val_loss: 0.6985 - val_acc: 0.8788\n",
      "Epoch 15/20\n",
      "790/790 [==============================] - 8s 10ms/step - loss: 0.0502 - acc: 0.9899 - val_loss: 0.7510 - val_acc: 0.8561\n",
      "Epoch 16/20\n",
      "790/790 [==============================] - 8s 10ms/step - loss: 8.6865e-04 - acc: 1.0000 - val_loss: 0.8670 - val_acc: 0.8864\n",
      "Epoch 17/20\n",
      "790/790 [==============================] - 8s 10ms/step - loss: 0.0711 - acc: 0.9835 - val_loss: 0.6985 - val_acc: 0.8712\n",
      "Epoch 18/20\n",
      "790/790 [==============================] - 7s 9ms/step - loss: 0.0062 - acc: 0.9987 - val_loss: 0.6539 - val_acc: 0.8788\n",
      "Epoch 19/20\n",
      "790/790 [==============================] - 7s 9ms/step - loss: 5.3996e-04 - acc: 1.0000 - val_loss: 0.6984 - val_acc: 0.8864\n",
      "Epoch 20/20\n",
      "790/790 [==============================] - 7s 9ms/step - loss: 0.0538 - acc: 0.9899 - val_loss: 0.7093 - val_acc: 0.8409\n"
     ]
    }
   ],
   "source": [
    "history = model.fit(train_x,\n",
    "                    train_y,\n",
    "                    epochs=20,\n",
    "                    batch_size=24,\n",
    "                    validation_data=(test_x, test_y))"
   ]
  },
  {
   "cell_type": "markdown",
   "metadata": {},
   "source": [
    "# 3. Convnet with data augmentation now!"
   ]
  },
  {
   "cell_type": "code",
   "execution_count": 64,
   "metadata": {},
   "outputs": [
    {
     "name": "stdout",
     "output_type": "stream",
     "text": [
      "Found 132 images belonging to 2 classes.\n",
      "Found 790 images belonging to 2 classes.\n"
     ]
    }
   ],
   "source": [
    "# directory path\n",
    "train_data_dir = 'data/train'\n",
    "test_data_dir = 'data/validation'\n",
    "\n",
    "# get all the data in the directory data/validation (132 images), and reshape them\n",
    "test_generator = ImageDataGenerator().flow_from_directory(\n",
    "        test_data_dir, \n",
    "        target_size=(64, 64), batch_size=132) \n",
    "\n",
    "# get all the data in the directory data/train (790 images), and reshape them\n",
    "train_generator = ImageDataGenerator().flow_from_directory(\n",
    "        train_data_dir, \n",
    "        target_size=(64, 64), batch_size=790)\n",
    "\n",
    "# create the data sets\n",
    "train_images, train_labels = next(train_generator)\n",
    "test_images, test_labels = next(test_generator)"
   ]
  },
  {
   "cell_type": "code",
   "execution_count": 65,
   "metadata": {},
   "outputs": [],
   "source": [
    "train_datagen = ImageDataGenerator(\n",
    "    rescale=1./255,\n",
    "    rotation_range=40,\n",
    "    width_shift_range=0.2,\n",
    "    height_shift_range=0.2,\n",
    "    shear_range=0.2,\n",
    "    zoom_range=0.2,\n",
    "    horizontal_flip=True,)\n",
    "\n",
    "test_datagen = ImageDataGenerator(rescale=1./255)"
   ]
  },
  {
   "cell_type": "code",
   "execution_count": 66,
   "metadata": {},
   "outputs": [
    {
     "name": "stdout",
     "output_type": "stream",
     "text": [
      "Found 790 images belonging to 2 classes.\n",
      "Found 132 images belonging to 2 classes.\n"
     ]
    }
   ],
   "source": [
    "train_generator = train_datagen.flow_from_directory(\n",
    "    'data/train',\n",
    "    target_size=(64, 64),\n",
    "    batch_size=24,\n",
    "    class_mode='binary')\n",
    "validation_generator = test_datagen.flow_from_directory(\n",
    "    'data/validation',\n",
    "    target_size=(64, 64),\n",
    "    batch_size=24,\n",
    "    class_mode='binary')"
   ]
  },
  {
   "cell_type": "code",
   "execution_count": 67,
   "metadata": {},
   "outputs": [
    {
     "data": {
      "text/plain": [
       "(790, 64, 64, 3)"
      ]
     },
     "execution_count": 67,
     "metadata": {},
     "output_type": "execute_result"
    }
   ],
   "source": [
    "np.shape(train_images)"
   ]
  },
  {
   "cell_type": "code",
   "execution_count": 68,
   "metadata": {},
   "outputs": [],
   "source": [
    "from keras import models\n",
    "from keras import layers\n",
    "model = models.Sequential()\n",
    "model.add(layers.Conv2D(32, (4, 4), input_shape=(64 ,64,  3)))\n",
    "model.add(layers.Activation('relu'))\n",
    "model.add(layers.MaxPooling2D(pool_size=(2, 2)))\n",
    "\n",
    "model.add(layers.Conv2D(32, (4, 4)))\n",
    "model.add(layers.Activation('relu'))\n",
    "model.add(layers.MaxPooling2D(pool_size=(2, 2)))\n",
    "\n",
    "model.add(layers.Conv2D(64, (4, 4)))\n",
    "model.add(layers.Activation('relu'))\n",
    "model.add(layers.MaxPooling2D(pool_size=(2, 2)))\n",
    "\n",
    "model.add(layers.Flatten())\n",
    "model.add(layers.Dense(64))\n",
    "model.add(layers.Activation('relu'))\n",
    "model.add(layers.Dense(1, activation='sigmoid'))"
   ]
  },
  {
   "cell_type": "code",
   "execution_count": 69,
   "metadata": {},
   "outputs": [],
   "source": [
    "model.compile(optimizer='rmsprop',\n",
    "              loss='binary_crossentropy',\n",
    "              metrics=['accuracy'])"
   ]
  },
  {
   "cell_type": "code",
   "execution_count": 70,
   "metadata": {},
   "outputs": [
    {
     "name": "stdout",
     "output_type": "stream",
     "text": [
      "Epoch 1/20\n",
      "10/10 [==============================] - 15s 2s/step - loss: 0.6962 - acc: 0.5000 - val_loss: 0.6613 - val_acc: 0.4474\n",
      "Epoch 2/20\n",
      "10/10 [==============================] - 9s 869ms/step - loss: 0.6489 - acc: 0.6369 - val_loss: 0.6103 - val_acc: 0.7237\n",
      "Epoch 3/20\n",
      "10/10 [==============================] - 11s 1s/step - loss: 0.5658 - acc: 0.7250 - val_loss: 0.5743 - val_acc: 0.7807\n",
      "Epoch 4/20\n",
      "10/10 [==============================] - 11s 1s/step - loss: 0.4698 - acc: 0.8625 - val_loss: 0.5118 - val_acc: 0.8114\n",
      "Epoch 5/20\n",
      "10/10 [==============================] - 9s 907ms/step - loss: 0.3976 - acc: 0.8412 - val_loss: 0.7827 - val_acc: 0.7588\n",
      "Epoch 6/20\n",
      "10/10 [==============================] - 10s 1s/step - loss: 0.4441 - acc: 0.8167 - val_loss: 0.4578 - val_acc: 0.8114\n",
      "Epoch 7/20\n",
      "10/10 [==============================] - 10s 984ms/step - loss: 0.3684 - acc: 0.8667 - val_loss: 0.5604 - val_acc: 0.7851\n",
      "Epoch 8/20\n",
      "10/10 [==============================] - 8s 760ms/step - loss: 0.4245 - acc: 0.8333 - val_loss: 0.4362 - val_acc: 0.8333\n",
      "Epoch 9/20\n",
      "10/10 [==============================] - 11s 1s/step - loss: 0.3746 - acc: 0.8774 - val_loss: 0.5037 - val_acc: 0.7807\n",
      "Epoch 10/20\n",
      "10/10 [==============================] - 10s 994ms/step - loss: 0.2020 - acc: 0.9333 - val_loss: 0.5186 - val_acc: 0.8289\n",
      "Epoch 11/20\n",
      "10/10 [==============================] - 10s 982ms/step - loss: 0.3917 - acc: 0.8485 - val_loss: 0.4481 - val_acc: 0.7982\n",
      "Epoch 12/20\n",
      "10/10 [==============================] - 8s 827ms/step - loss: 0.2757 - acc: 0.9083 - val_loss: 0.5526 - val_acc: 0.7632\n",
      "Epoch 13/20\n",
      "10/10 [==============================] - 10s 969ms/step - loss: 0.2835 - acc: 0.9000 - val_loss: 0.6131 - val_acc: 0.6974\n",
      "Epoch 14/20\n",
      "10/10 [==============================] - 14s 1s/step - loss: 0.3015 - acc: 0.8875 - val_loss: 0.5410 - val_acc: 0.7281\n",
      "Epoch 15/20\n",
      "10/10 [==============================] - 11s 1s/step - loss: 0.2720 - acc: 0.9000 - val_loss: 0.4017 - val_acc: 0.8158\n",
      "Epoch 16/20\n",
      "10/10 [==============================] - 8s 786ms/step - loss: 0.2848 - acc: 0.8750 - val_loss: 0.3384 - val_acc: 0.8860\n",
      "Epoch 17/20\n",
      "10/10 [==============================] - 10s 1s/step - loss: 0.2644 - acc: 0.8954 - val_loss: 0.4785 - val_acc: 0.7807\n",
      "Epoch 18/20\n",
      "10/10 [==============================] - 10s 963ms/step - loss: 0.2425 - acc: 0.8909 - val_loss: 0.3229 - val_acc: 0.8728\n",
      "Epoch 19/20\n",
      "10/10 [==============================] - 9s 889ms/step - loss: 0.1997 - acc: 0.9208 - val_loss: 0.6399 - val_acc: 0.7632\n",
      "Epoch 20/20\n",
      "10/10 [==============================] - 9s 923ms/step - loss: 0.2223 - acc: 0.9167 - val_loss: 0.3733 - val_acc: 0.8640\n"
     ]
    }
   ],
   "source": [
    "history_2 = model.fit_generator(\n",
    "      train_generator,\n",
    "      steps_per_epoch=10,\n",
    "      epochs=20,\n",
    "      validation_data=validation_generator,\n",
    "      validation_steps=10)"
   ]
  },
  {
   "cell_type": "markdown",
   "metadata": {},
   "source": [
    "\n",
    "## 8. Conclusion\n",
    "\n",
    "A deeper network drastically improves the performance on our data set with Santa images!\n"
   ]
  }
 ],
 "metadata": {
  "coursera": {
   "course_slug": "neural-networks-deep-learning",
   "graded_item_id": "c4HO0",
   "launcher_item_id": "lSYZM"
  },
  "kernelspec": {
   "display_name": "Python 3",
   "language": "python",
   "name": "python3"
  },
  "language_info": {
   "codemirror_mode": {
    "name": "ipython",
    "version": 3
   },
   "file_extension": ".py",
   "mimetype": "text/x-python",
   "name": "python",
   "nbconvert_exporter": "python",
   "pygments_lexer": "ipython3",
   "version": "3.6.4"
  }
 },
 "nbformat": 4,
 "nbformat_minor": 1
}
