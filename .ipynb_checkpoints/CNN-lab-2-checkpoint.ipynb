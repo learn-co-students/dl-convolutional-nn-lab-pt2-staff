{
 "cells": [
  {
   "cell_type": "markdown",
   "metadata": {},
   "source": [
    "# Convolutional neural nets lab"
   ]
  },
  {
   "cell_type": "markdown",
   "metadata": {},
   "source": [
    "# 1 Let's run the santa example in Keras"
   ]
  },
  {
   "cell_type": "code",
   "execution_count": 9,
   "metadata": {},
   "outputs": [],
   "source": [
    "import time\n",
    "import matplotlib.pyplot as plt\n",
    "import scipy\n",
    "import numpy as np\n",
    "from PIL import Image\n",
    "from scipy import ndimage\n",
    "from keras.preprocessing.image import ImageDataGenerator, array_to_img, img_to_array, load_img\n",
    "\n",
    "np.random.seed(1)"
   ]
  },
  {
   "cell_type": "code",
   "execution_count": 10,
   "metadata": {},
   "outputs": [
    {
     "name": "stdout",
     "output_type": "stream",
     "text": [
      "Found 132 images belonging to 2 classes.\n",
      "Found 790 images belonging to 2 classes.\n"
     ]
    }
   ],
   "source": [
    "# directory path\n",
    "train_data_dir = 'data/train'\n",
    "test_data_dir = 'data/validation'\n",
    "\n",
    "# get all the data in the directory data/validation (132 images), and reshape them\n",
    "test_generator = ImageDataGenerator().flow_from_directory(\n",
    "        test_data_dir, \n",
    "        target_size=(64, 64), batch_size=132) \n",
    "\n",
    "# get all the data in the directory data/train (790 images), and reshape them\n",
    "train_generator = ImageDataGenerator().flow_from_directory(\n",
    "        train_data_dir, \n",
    "        target_size=(64, 64), batch_size=790)\n",
    "\n",
    "# create the data sets\n",
    "train_images, train_labels = next(train_generator)\n",
    "test_images, test_labels = next(test_generator)"
   ]
  },
  {
   "cell_type": "code",
   "execution_count": 11,
   "metadata": {},
   "outputs": [
    {
     "name": "stdout",
     "output_type": "stream",
     "text": [
      "Number of training examples: 790\n",
      "Number of testing examples: 132\n",
      "Each image is of size: (64, 64, 3)\n",
      "train_images shape: (790, 64, 64, 3)\n",
      "train_labels shape: (790, 2)\n",
      "test_images_orig shape: (132, 64, 64, 3)\n",
      "test_labels shape: (132, 2)\n"
     ]
    }
   ],
   "source": [
    "# Explore your dataset again\n",
    "m_train = train_images.shape[0]\n",
    "num_px = train_images.shape[1]\n",
    "m_test = test_images.shape[0]\n",
    "\n",
    "print (\"Number of training examples: \" + str(m_train))\n",
    "print (\"Number of testing examples: \" + str(m_test))\n",
    "print (\"Each image is of size: (\" + str(num_px) + \", \" + str(num_px) + \", 3)\")\n",
    "print (\"train_images shape: \" + str(train_images.shape))\n",
    "print (\"train_labels shape: \" + str(train_labels.shape))\n",
    "print (\"test_images_orig shape: \" + str(test_images.shape))\n",
    "print (\"test_labels shape: \" + str(test_labels.shape))"
   ]
  },
  {
   "cell_type": "code",
   "execution_count": 12,
   "metadata": {},
   "outputs": [
    {
     "name": "stdout",
     "output_type": "stream",
     "text": [
      "train_x's shape: (790, 12288)\n",
      "test_x's shape: (132, 12288)\n"
     ]
    }
   ],
   "source": [
    "# Reshape the training and test examples \n",
    "train_img = train_images.reshape(train_images.shape[0], -1)  # The \"-1\" makes reshape flatten the remaining dimensions\n",
    "test_img = test_images.reshape(test_images.shape[0], -1)\n",
    "\n",
    "# Standardize data to have feature values between 0 and 1.\n",
    "train_x = train_img/255.\n",
    "test_x = test_img/255.\n",
    "\n",
    "print (\"train_x's shape: \" + str(train_img.shape))\n",
    "print (\"test_x's shape: \" + str(test_img.shape))"
   ]
  },
  {
   "cell_type": "code",
   "execution_count": 13,
   "metadata": {},
   "outputs": [
    {
     "name": "stdout",
     "output_type": "stream",
     "text": [
      "train_y's shape: (790, 1)\n",
      "test_y's shape: (132, 1)\n"
     ]
    }
   ],
   "source": [
    "# Reshape the labels\n",
    "train_y = train_labels[:,0]\n",
    "train_y = np.reshape(train_y, (790,1))\n",
    "\n",
    "test_y = test_labels[:,0]\n",
    "test_y = np.reshape(test_y, (132, 1))\n",
    "\n",
    "print (\"train_y's shape: \" + str(train_y.shape))\n",
    "print (\"test_y's shape: \" + str(test_y.shape))"
   ]
  },
  {
   "cell_type": "code",
   "execution_count": 14,
   "metadata": {},
   "outputs": [],
   "source": [
    "from keras import models\n",
    "from keras import layers\n",
    "model = models.Sequential()\n",
    "model.add(layers.Dense(20, activation='relu', input_shape=(12288,))) #2 hidden layers\n",
    "model.add(layers.Dense(7, activation='relu'))\n",
    "model.add(layers.Dense(5, activation='relu'))\n",
    "model.add(layers.Dense(1, activation='sigmoid'))"
   ]
  },
  {
   "cell_type": "code",
   "execution_count": 15,
   "metadata": {},
   "outputs": [],
   "source": [
    "model.compile(optimizer='rmsprop',\n",
    "              loss='binary_crossentropy',\n",
    "              metrics=['accuracy'])"
   ]
  },
  {
   "cell_type": "code",
   "execution_count": 16,
   "metadata": {},
   "outputs": [
    {
     "name": "stdout",
     "output_type": "stream",
     "text": [
      "Train on 790 samples, validate on 132 samples\n",
      "Epoch 1/50\n",
      "790/790 [==============================] - 1s 891us/step - loss: 0.7295 - acc: 0.5266 - val_loss: 0.8782 - val_acc: 0.4318\n",
      "Epoch 2/50\n",
      "790/790 [==============================] - 0s 341us/step - loss: 0.6866 - acc: 0.5418 - val_loss: 0.9120 - val_acc: 0.4318\n",
      "Epoch 3/50\n",
      "790/790 [==============================] - 0s 391us/step - loss: 0.6470 - acc: 0.5886 - val_loss: 0.6899 - val_acc: 0.5682\n",
      "Epoch 4/50\n",
      "790/790 [==============================] - 0s 387us/step - loss: 0.6365 - acc: 0.6329 - val_loss: 0.6875 - val_acc: 0.5530\n",
      "Epoch 5/50\n",
      "790/790 [==============================] - 0s 367us/step - loss: 0.6047 - acc: 0.6772 - val_loss: 0.7140 - val_acc: 0.4545\n",
      "Epoch 6/50\n",
      "790/790 [==============================] - 0s 327us/step - loss: 0.5770 - acc: 0.7114 - val_loss: 0.9451 - val_acc: 0.4318\n",
      "Epoch 7/50\n",
      "790/790 [==============================] - 0s 362us/step - loss: 0.5766 - acc: 0.7241 - val_loss: 0.6164 - val_acc: 0.6894\n",
      "Epoch 8/50\n",
      "790/790 [==============================] - 0s 302us/step - loss: 0.5426 - acc: 0.7405 - val_loss: 0.6342 - val_acc: 0.7500\n",
      "Epoch 9/50\n",
      "790/790 [==============================] - 0s 343us/step - loss: 0.5331 - acc: 0.7570 - val_loss: 0.7399 - val_acc: 0.4773\n",
      "Epoch 10/50\n",
      "790/790 [==============================] - 0s 320us/step - loss: 0.5232 - acc: 0.7582 - val_loss: 0.5990 - val_acc: 0.7576\n",
      "Epoch 11/50\n",
      "790/790 [==============================] - 0s 317us/step - loss: 0.5426 - acc: 0.7696 - val_loss: 0.5757 - val_acc: 0.7576\n",
      "Epoch 12/50\n",
      "790/790 [==============================] - 0s 308us/step - loss: 0.4984 - acc: 0.7873 - val_loss: 0.5938 - val_acc: 0.7727\n",
      "Epoch 13/50\n",
      "790/790 [==============================] - 0s 314us/step - loss: 0.4883 - acc: 0.7975 - val_loss: 0.6654 - val_acc: 0.6212\n",
      "Epoch 14/50\n",
      "790/790 [==============================] - 0s 302us/step - loss: 0.4883 - acc: 0.7911 - val_loss: 0.7129 - val_acc: 0.5758\n",
      "Epoch 15/50\n",
      "790/790 [==============================] - 0s 307us/step - loss: 0.4616 - acc: 0.8139 - val_loss: 0.7152 - val_acc: 0.5985\n",
      "Epoch 16/50\n",
      "790/790 [==============================] - 0s 332us/step - loss: 0.5179 - acc: 0.7987 - val_loss: 0.8262 - val_acc: 0.4848\n",
      "Epoch 17/50\n",
      "790/790 [==============================] - 0s 320us/step - loss: 0.4385 - acc: 0.8203 - val_loss: 0.6175 - val_acc: 0.6818\n",
      "Epoch 18/50\n",
      "790/790 [==============================] - 0s 333us/step - loss: 0.4174 - acc: 0.8316 - val_loss: 0.6479 - val_acc: 0.6439\n",
      "Epoch 19/50\n",
      "790/790 [==============================] - 0s 325us/step - loss: 0.4241 - acc: 0.8228 - val_loss: 0.6496 - val_acc: 0.6515\n",
      "Epoch 20/50\n",
      "790/790 [==============================] - 0s 314us/step - loss: 0.4250 - acc: 0.8114 - val_loss: 0.5248 - val_acc: 0.7955\n",
      "Epoch 21/50\n",
      "790/790 [==============================] - 0s 309us/step - loss: 0.3982 - acc: 0.8582 - val_loss: 0.4871 - val_acc: 0.8106\n",
      "Epoch 22/50\n",
      "790/790 [==============================] - 0s 290us/step - loss: 0.3924 - acc: 0.8519 - val_loss: 0.4966 - val_acc: 0.7803\n",
      "Epoch 23/50\n",
      "790/790 [==============================] - 0s 285us/step - loss: 0.3694 - acc: 0.8684 - val_loss: 0.6207 - val_acc: 0.7197\n",
      "Epoch 24/50\n",
      "790/790 [==============================] - 0s 305us/step - loss: 0.3919 - acc: 0.8316 - val_loss: 0.4985 - val_acc: 0.7879\n",
      "Epoch 25/50\n",
      "790/790 [==============================] - 0s 312us/step - loss: 0.3377 - acc: 0.8785 - val_loss: 0.5371 - val_acc: 0.7803\n",
      "Epoch 26/50\n",
      "790/790 [==============================] - 0s 321us/step - loss: 0.3440 - acc: 0.8810 - val_loss: 0.6748 - val_acc: 0.6591\n",
      "Epoch 27/50\n",
      "790/790 [==============================] - 0s 340us/step - loss: 0.3222 - acc: 0.8886 - val_loss: 0.6010 - val_acc: 0.7273\n",
      "Epoch 28/50\n",
      "790/790 [==============================] - 0s 356us/step - loss: 0.3373 - acc: 0.8646 - val_loss: 0.5173 - val_acc: 0.7803\n",
      "Epoch 29/50\n",
      "790/790 [==============================] - 0s 342us/step - loss: 0.3463 - acc: 0.8696 - val_loss: 0.4844 - val_acc: 0.7727\n",
      "Epoch 30/50\n",
      "790/790 [==============================] - 0s 363us/step - loss: 0.3022 - acc: 0.8937 - val_loss: 1.1296 - val_acc: 0.5227\n",
      "Epoch 31/50\n",
      "790/790 [==============================] - 0s 349us/step - loss: 0.3242 - acc: 0.8582 - val_loss: 0.5101 - val_acc: 0.7803\n",
      "Epoch 32/50\n",
      "790/790 [==============================] - 0s 342us/step - loss: 0.3168 - acc: 0.8734 - val_loss: 0.5501 - val_acc: 0.7348\n",
      "Epoch 33/50\n",
      "790/790 [==============================] - 0s 312us/step - loss: 0.2783 - acc: 0.8987 - val_loss: 0.5141 - val_acc: 0.7500\n",
      "Epoch 34/50\n",
      "790/790 [==============================] - 0s 306us/step - loss: 0.2629 - acc: 0.9076 - val_loss: 0.5297 - val_acc: 0.7955\n",
      "Epoch 35/50\n",
      "790/790 [==============================] - 0s 361us/step - loss: 0.3378 - acc: 0.8506 - val_loss: 0.5128 - val_acc: 0.7727\n",
      "Epoch 36/50\n",
      "790/790 [==============================] - 0s 384us/step - loss: 0.3032 - acc: 0.8759 - val_loss: 0.5359 - val_acc: 0.7500\n",
      "Epoch 37/50\n",
      "790/790 [==============================] - 0s 337us/step - loss: 0.2673 - acc: 0.8924 - val_loss: 0.6970 - val_acc: 0.7121\n",
      "Epoch 38/50\n",
      "790/790 [==============================] - 0s 358us/step - loss: 0.2827 - acc: 0.8823 - val_loss: 0.4747 - val_acc: 0.7727\n",
      "Epoch 39/50\n",
      "790/790 [==============================] - 0s 340us/step - loss: 0.2545 - acc: 0.8899 - val_loss: 0.5291 - val_acc: 0.7652\n",
      "Epoch 40/50\n",
      "790/790 [==============================] - 0s 353us/step - loss: 0.2493 - acc: 0.9051 - val_loss: 0.5484 - val_acc: 0.7727\n",
      "Epoch 41/50\n",
      "790/790 [==============================] - 0s 364us/step - loss: 0.2390 - acc: 0.9152 - val_loss: 0.5422 - val_acc: 0.7803\n",
      "Epoch 42/50\n",
      "790/790 [==============================] - 0s 309us/step - loss: 0.2327 - acc: 0.9190 - val_loss: 0.8886 - val_acc: 0.6970\n",
      "Epoch 43/50\n",
      "790/790 [==============================] - 0s 330us/step - loss: 0.2764 - acc: 0.9025 - val_loss: 0.5919 - val_acc: 0.7803\n",
      "Epoch 44/50\n",
      "790/790 [==============================] - 0s 337us/step - loss: 0.2315 - acc: 0.9114 - val_loss: 0.8133 - val_acc: 0.6818\n",
      "Epoch 45/50\n",
      "790/790 [==============================] - 0s 343us/step - loss: 0.2546 - acc: 0.9165 - val_loss: 0.6699 - val_acc: 0.7197\n",
      "Epoch 46/50\n",
      "790/790 [==============================] - 0s 352us/step - loss: 0.2141 - acc: 0.9228 - val_loss: 1.1554 - val_acc: 0.6136\n",
      "Epoch 47/50\n",
      "790/790 [==============================] - 0s 344us/step - loss: 0.1708 - acc: 0.9291 - val_loss: 0.5749 - val_acc: 0.7424\n",
      "Epoch 48/50\n",
      "790/790 [==============================] - 0s 313us/step - loss: 0.2020 - acc: 0.9278 - val_loss: 0.6757 - val_acc: 0.7348\n",
      "Epoch 49/50\n",
      "790/790 [==============================] - 0s 361us/step - loss: 0.2130 - acc: 0.9127 - val_loss: 0.9437 - val_acc: 0.6970\n",
      "Epoch 50/50\n",
      "790/790 [==============================] - 0s 358us/step - loss: 0.2416 - acc: 0.9304 - val_loss: 0.6171 - val_acc: 0.7803\n"
     ]
    }
   ],
   "source": [
    "history = model.fit(train_x,\n",
    "                    train_y,\n",
    "                    epochs=50,\n",
    "                    batch_size=34,\n",
    "                    validation_data=(test_x, test_y))"
   ]
  },
  {
   "cell_type": "markdown",
   "metadata": {},
   "source": [
    "# 2. Let's see how we can perform data augmentation in Keras"
   ]
  },
  {
   "cell_type": "code",
   "execution_count": 17,
   "metadata": {},
   "outputs": [],
   "source": [
    "datagen = ImageDataGenerator(\n",
    "      rotation_range=40,\n",
    "      width_shift_range=0.2,\n",
    "      height_shift_range=0.2,\n",
    "      shear_range=0.2,\n",
    "      zoom_range=0.2,\n",
    "      horizontal_flip=True,\n",
    "      fill_mode='nearest')"
   ]
  },
  {
   "cell_type": "code",
   "execution_count": 18,
   "metadata": {},
   "outputs": [],
   "source": [
    "from keras.preprocessing import image\n",
    "import os"
   ]
  },
  {
   "cell_type": "code",
   "execution_count": 20,
   "metadata": {},
   "outputs": [
    {
     "data": {
      "image/png": "[encoded data removed]",
      "text/plain": [
       "<matplotlib.figure.Figure at 0x1821bcf4e0>"
      ]
     },
     "metadata": {},
     "output_type": "display_data"
    },
    {
     "data": {
      "image/png": "[encoded data removed]",
      "text/plain": [
       "<matplotlib.figure.Figure at 0x1821bafe10>"
      ]
     },
     "metadata": {},
     "output_type": "display_data"
    },
    {
     "data": {
      "image/png": "[encoded data removed]",
      "text/plain": [
       "<matplotlib.figure.Figure at 0x1116f2080>"
      ]
     },
     "metadata": {},
     "output_type": "display_data"
    },
    {
     "data": {
      "image/png": "[encoded data removed]",
      "text/plain": [
       "<matplotlib.figure.Figure at 0x18250e6550>"
      ]
     },
     "metadata": {},
     "output_type": "display_data"
    },
    {
     "data": {
      "image/png": "[encoded data removed]",
      "text/plain": [
       "<matplotlib.figure.Figure at 0x1825122a20>"
      ]
     },
     "metadata": {},
     "output_type": "display_data"
    },
    {
     "data": {
      "image/png": "[encoded data removed]",
      "text/plain": [
       "<matplotlib.figure.Figure at 0x1821bbca90>"
      ]
     },
     "metadata": {},
     "output_type": "display_data"
    },
    {
     "data": {
      "image/png": "[encoded data removed]",
      "text/plain": [
       "<matplotlib.figure.Figure at 0x182518cdd8>"
      ]
     },
     "metadata": {},
     "output_type": "display_data"
    },
    {
     "data": {
      "image/png": "[encoded data removed]",
      "text/plain": [
       "<matplotlib.figure.Figure at 0x18251d3400>"
      ]
     },
     "metadata": {},
     "output_type": "display_data"
    }
   ],
   "source": [
    "santa_dir= 'data/train/santa'\n",
    "fnames = [os.path.join(santa_dir, fname) for\n",
    "     fname in os.listdir(santa_dir)]\n",
    "img_path = fnames[3]\n",
    "img = image.load_img(img_path, target_size=(64, 64))\n",
    "\n",
    "arrayimg = image.img_to_array(img) \n",
    "arrayimg = arrayimg.reshape((1,) + arrayimg.shape) \n",
    "i=0\n",
    "for batch in datagen.flow(arrayimg, batch_size=1):\n",
    "    plt.figure(i)\n",
    "    imgplot = plt.imshow(image.array_to_img(batch[0]))\n",
    "    i += 1\n",
    "    if i % 8 == 0:\n",
    "        break\n",
    "plt.show()"
   ]
  },
  {
   "cell_type": "markdown",
   "metadata": {},
   "source": [
    "# 2. Conv net without data augmentation"
   ]
  },
  {
   "cell_type": "code",
   "execution_count": 51,
   "metadata": {},
   "outputs": [
    {
     "name": "stdout",
     "output_type": "stream",
     "text": [
      "Found 132 images belonging to 2 classes.\n",
      "Found 790 images belonging to 2 classes.\n"
     ]
    }
   ],
   "source": [
    "# directory path\n",
    "train_data_dir = 'data/train'\n",
    "test_data_dir = 'data/validation'\n",
    "\n",
    "# get all the data in the directory data/validation (132 images), and reshape them\n",
    "test_generator = ImageDataGenerator().flow_from_directory(\n",
    "        test_data_dir, \n",
    "        target_size=(64, 64), batch_size=132) \n",
    "\n",
    "# get all the data in the directory data/train (790 images), and reshape them\n",
    "train_generator = ImageDataGenerator().flow_from_directory(\n",
    "        train_data_dir, \n",
    "        target_size=(64, 64), batch_size=790)\n",
    "\n",
    "# create the data sets\n",
    "train_images, train_labels = next(train_generator)\n",
    "test_images, test_labels = next(test_generator)"
   ]
  },
  {
   "cell_type": "code",
   "execution_count": 57,
   "metadata": {},
   "outputs": [
    {
     "name": "stdout",
     "output_type": "stream",
     "text": [
      "train_x's shape: (790, 12288)\n",
      "test_x's shape: (132, 12288)\n"
     ]
    },
    {
     "data": {
      "text/plain": [
       "(790, 64, 64, 3)"
      ]
     },
     "execution_count": 57,
     "metadata": {},
     "output_type": "execute_result"
    }
   ],
   "source": [
    "# Reshape the training and test examples \n",
    "train_img = train_images.reshape(train_images.shape[0], -1)  # The \"-1\" makes reshape flatten the remaining dimensions\n",
    "test_img = test_images.reshape(test_images.shape[0], -1)\n",
    "\n",
    "# Standardize data to have feature values between 0 and 1.\n",
    "train_x = train_images/255.\n",
    "test_x = test_images/255.\n",
    "\n",
    "print (\"train_x's shape: \" + str(train_img.shape))\n",
    "print (\"test_x's shape: \" + str(test_img.shape))\n",
    "\n",
    "np.shape(train_x)"
   ]
  },
  {
   "cell_type": "code",
   "execution_count": 58,
   "metadata": {},
   "outputs": [
    {
     "name": "stdout",
     "output_type": "stream",
     "text": [
      "train_y's shape: (790, 1)\n",
      "test_y's shape: (132, 1)\n"
     ]
    }
   ],
   "source": [
    "# Reshape the labels\n",
    "train_y = train_labels[:,0]\n",
    "train_y = np.reshape(train_y, (790,1))\n",
    "\n",
    "test_y = test_labels[:,0]\n",
    "test_y = np.reshape(test_y, (132, 1))\n",
    "\n",
    "print (\"train_y's shape: \" + str(train_y.shape))\n",
    "print (\"test_y's shape: \" + str(test_y.shape))"
   ]
  },
  {
   "cell_type": "code",
   "execution_count": 59,
   "metadata": {},
   "outputs": [],
   "source": [
    "from keras import models\n",
    "from keras import layers\n",
    "model = models.Sequential()\n",
    "model.add(layers.Conv2D(32, (4, 4), input_shape=(64 ,64,  3)))\n",
    "model.add(layers.Activation('relu'))\n",
    "model.add(layers.MaxPooling2D(pool_size=(2, 2)))\n",
    "\n",
    "model.add(layers.Conv2D(32, (4, 4)))\n",
    "model.add(layers.Activation('relu'))\n",
    "model.add(layers.MaxPooling2D(pool_size=(2, 2)))\n",
    "\n",
    "model.add(layers.Conv2D(64, (4, 4)))\n",
    "model.add(layers.Activation('relu'))\n",
    "model.add(layers.MaxPooling2D(pool_size=(2, 2)))\n",
    "\n",
    "model.add(layers.Flatten())\n",
    "model.add(layers.Dense(64))\n",
    "model.add(layers.Activation('relu'))\n",
    "model.add(layers.Dense(1, activation='sigmoid'))"
   ]
  },
  {
   "cell_type": "code",
   "execution_count": 61,
   "metadata": {},
   "outputs": [],
   "source": [
    "model.compile(optimizer='rmsprop',\n",
    "              loss='binary_crossentropy',\n",
    "              metrics=['accuracy'])"
   ]
  },
  {
   "cell_type": "code",
   "execution_count": 63,
   "metadata": {},
   "outputs": [
    {
     "name": "stdout",
     "output_type": "stream",
     "text": [
      "Train on 790 samples, validate on 132 samples\n",
      "Epoch 1/20\n",
      "790/790 [==============================] - 7s 9ms/step - loss: 0.1017 - acc: 0.9772 - val_loss: 0.4710 - val_acc: 0.8636\n",
      "Epoch 2/20\n",
      "790/790 [==============================] - 7s 9ms/step - loss: 0.0286 - acc: 0.9937 - val_loss: 1.0134 - val_acc: 0.7727\n",
      "Epoch 3/20\n",
      "790/790 [==============================] - 7s 9ms/step - loss: 0.0808 - acc: 0.9747 - val_loss: 0.4252 - val_acc: 0.8939\n",
      "Epoch 4/20\n",
      "790/790 [==============================] - 8s 10ms/step - loss: 0.0325 - acc: 0.9911 - val_loss: 0.4709 - val_acc: 0.8712\n",
      "Epoch 5/20\n",
      "790/790 [==============================] - 7s 9ms/step - loss: 0.0799 - acc: 0.9835 - val_loss: 0.5040 - val_acc: 0.8712\n",
      "Epoch 6/20\n",
      "790/790 [==============================] - 8s 10ms/step - loss: 0.0184 - acc: 0.9911 - val_loss: 0.5853 - val_acc: 0.8636\n",
      "Epoch 7/20\n",
      "790/790 [==============================] - 8s 10ms/step - loss: 0.0773 - acc: 0.9810 - val_loss: 0.4794 - val_acc: 0.8636\n",
      "Epoch 8/20\n",
      "790/790 [==============================] - 8s 10ms/step - loss: 0.0095 - acc: 0.9975 - val_loss: 0.5243 - val_acc: 0.8561\n",
      "Epoch 9/20\n",
      "790/790 [==============================] - 8s 10ms/step - loss: 0.0288 - acc: 0.9886 - val_loss: 0.6256 - val_acc: 0.8636\n",
      "Epoch 10/20\n",
      "790/790 [==============================] - 7s 9ms/step - loss: 0.0380 - acc: 0.9911 - val_loss: 0.6759 - val_acc: 0.8636\n",
      "Epoch 11/20\n",
      "790/790 [==============================] - 7s 9ms/step - loss: 0.0230 - acc: 0.9937 - val_loss: 0.6646 - val_acc: 0.8561\n",
      "Epoch 12/20\n",
      "790/790 [==============================] - 7s 9ms/step - loss: 0.0058 - acc: 0.9987 - val_loss: 1.3438 - val_acc: 0.8106\n",
      "Epoch 13/20\n",
      "790/790 [==============================] - 8s 10ms/step - loss: 0.0483 - acc: 0.9873 - val_loss: 0.6709 - val_acc: 0.8788\n",
      "Epoch 14/20\n",
      "790/790 [==============================] - 7s 9ms/step - loss: 9.5690e-04 - acc: 1.0000 - val_loss: 0.6985 - val_acc: 0.8788\n",
      "Epoch 15/20\n",
      "790/790 [==============================] - 8s 10ms/step - loss: 0.0502 - acc: 0.9899 - val_loss: 0.7510 - val_acc: 0.8561\n",
      "Epoch 16/20\n",
      "790/790 [==============================] - 8s 10ms/step - loss: 8.6865e-04 - acc: 1.0000 - val_loss: 0.8670 - val_acc: 0.8864\n",
      "Epoch 17/20\n",
      "790/790 [==============================] - 8s 10ms/step - loss: 0.0711 - acc: 0.9835 - val_loss: 0.6985 - val_acc: 0.8712\n",
      "Epoch 18/20\n",
      "790/790 [==============================] - 7s 9ms/step - loss: 0.0062 - acc: 0.9987 - val_loss: 0.6539 - val_acc: 0.8788\n",
      "Epoch 19/20\n",
      "790/790 [==============================] - 7s 9ms/step - loss: 5.3996e-04 - acc: 1.0000 - val_loss: 0.6984 - val_acc: 0.8864\n",
      "Epoch 20/20\n",
      "790/790 [==============================] - 7s 9ms/step - loss: 0.0538 - acc: 0.9899 - val_loss: 0.7093 - val_acc: 0.8409\n"
     ]
    }
   ],
   "source": [
    "history = model.fit(train_x,\n",
    "                    train_y,\n",
    "                    epochs=20,\n",
    "                    batch_size=24,\n",
    "                    validation_data=(test_x, test_y))"
   ]
  },
  {
   "cell_type": "markdown",
   "metadata": {},
   "source": [
    "# 3. Convnet with data augmentation now!"
   ]
  },
  {
   "cell_type": "code",
   "execution_count": 64,
   "metadata": {},
   "outputs": [
    {
     "name": "stdout",
     "output_type": "stream",
     "text": [
      "Found 132 images belonging to 2 classes.\n",
      "Found 790 images belonging to 2 classes.\n"
     ]
    }
   ],
   "source": [
    "# directory path\n",
    "train_data_dir = 'data/train'\n",
    "test_data_dir = 'data/validation'\n",
    "\n",
    "# get all the data in the directory data/validation (132 images), and reshape them\n",
    "test_generator = ImageDataGenerator().flow_from_directory(\n",
    "        test_data_dir, \n",
    "        target_size=(64, 64), batch_size=132) \n",
    "\n",
    "# get all the data in the directory data/train (790 images), and reshape them\n",
    "train_generator = ImageDataGenerator().flow_from_directory(\n",
    "        train_data_dir, \n",
    "        target_size=(64, 64), batch_size=790)\n",
    "\n",
    "# create the data sets\n",
    "train_images, train_labels = next(train_generator)\n",
    "test_images, test_labels = next(test_generator)"
   ]
  },
  {
   "cell_type": "code",
   "execution_count": 65,
   "metadata": {},
   "outputs": [],
   "source": [
    "train_datagen = ImageDataGenerator(\n",
    "    rescale=1./255,\n",
    "    rotation_range=40,\n",
    "    width_shift_range=0.2,\n",
    "    height_shift_range=0.2,\n",
    "    shear_range=0.2,\n",
    "    zoom_range=0.2,\n",
    "    horizontal_flip=True,)\n",
    "\n",
    "test_datagen = ImageDataGenerator(rescale=1./255)"
   ]
  },
  {
   "cell_type": "code",
   "execution_count": 66,
   "metadata": {},
   "outputs": [
    {
     "name": "stdout",
     "output_type": "stream",
     "text": [
      "Found 790 images belonging to 2 classes.\n",
      "Found 132 images belonging to 2 classes.\n"
     ]
    }
   ],
   "source": [
    "train_generator = train_datagen.flow_from_directory(\n",
    "    'data/train',\n",
    "    target_size=(64, 64),\n",
    "    batch_size=24,\n",
    "    class_mode='binary')\n",
    "validation_generator = test_datagen.flow_from_directory(\n",
    "    'data/validation',\n",
    "    target_size=(64, 64),\n",
    "    batch_size=24,\n",
    "    class_mode='binary')"
   ]
  },
  {
   "cell_type": "code",
   "execution_count": 67,
   "metadata": {},
   "outputs": [
    {
     "data": {
      "text/plain": [
       "(790, 64, 64, 3)"
      ]
     },
     "execution_count": 67,
     "metadata": {},
     "output_type": "execute_result"
    }
   ],
   "source": [
    "np.shape(train_images)"
   ]
  },
  {
   "cell_type": "code",
   "execution_count": 68,
   "metadata": {},
   "outputs": [],
   "source": [
    "from keras import models\n",
    "from keras import layers\n",
    "model = models.Sequential()\n",
    "model.add(layers.Conv2D(32, (4, 4), input_shape=(64 ,64,  3)))\n",
    "model.add(layers.Activation('relu'))\n",
    "model.add(layers.MaxPooling2D(pool_size=(2, 2)))\n",
    "\n",
    "model.add(layers.Conv2D(32, (4, 4)))\n",
    "model.add(layers.Activation('relu'))\n",
    "model.add(layers.MaxPooling2D(pool_size=(2, 2)))\n",
    "\n",
    "model.add(layers.Conv2D(64, (4, 4)))\n",
    "model.add(layers.Activation('relu'))\n",
    "model.add(layers.MaxPooling2D(pool_size=(2, 2)))\n",
    "\n",
    "model.add(layers.Flatten())\n",
    "model.add(layers.Dense(64))\n",
    "model.add(layers.Activation('relu'))\n",
    "model.add(layers.Dense(1, activation='sigmoid'))"
   ]
  },
  {
   "cell_type": "code",
   "execution_count": 69,
   "metadata": {},
   "outputs": [],
   "source": [
    "model.compile(optimizer='rmsprop',\n",
    "              loss='binary_crossentropy',\n",
    "              metrics=['accuracy'])"
   ]
  },
  {
   "cell_type": "code",
   "execution_count": 70,
   "metadata": {},
   "outputs": [
    {
     "name": "stdout",
     "output_type": "stream",
     "text": [
      "Epoch 1/20\n",
      "10/10 [==============================] - 15s 2s/step - loss: 0.6962 - acc: 0.5000 - val_loss: 0.6613 - val_acc: 0.4474\n",
      "Epoch 2/20\n",
      "10/10 [==============================] - 9s 869ms/step - loss: 0.6489 - acc: 0.6369 - val_loss: 0.6103 - val_acc: 0.7237\n",
      "Epoch 3/20\n",
      "10/10 [==============================] - 11s 1s/step - loss: 0.5658 - acc: 0.7250 - val_loss: 0.5743 - val_acc: 0.7807\n",
      "Epoch 4/20\n",
      "10/10 [==============================] - 11s 1s/step - loss: 0.4698 - acc: 0.8625 - val_loss: 0.5118 - val_acc: 0.8114\n",
      "Epoch 5/20\n",
      "10/10 [==============================] - 9s 907ms/step - loss: 0.3976 - acc: 0.8412 - val_loss: 0.7827 - val_acc: 0.7588\n",
      "Epoch 6/20\n",
      "10/10 [==============================] - 10s 1s/step - loss: 0.4441 - acc: 0.8167 - val_loss: 0.4578 - val_acc: 0.8114\n",
      "Epoch 7/20\n",
      "10/10 [==============================] - 10s 984ms/step - loss: 0.3684 - acc: 0.8667 - val_loss: 0.5604 - val_acc: 0.7851\n",
      "Epoch 8/20\n",
      "10/10 [==============================] - 8s 760ms/step - loss: 0.4245 - acc: 0.8333 - val_loss: 0.4362 - val_acc: 0.8333\n",
      "Epoch 9/20\n",
      "10/10 [==============================] - 11s 1s/step - loss: 0.3746 - acc: 0.8774 - val_loss: 0.5037 - val_acc: 0.7807\n",
      "Epoch 10/20\n",
      "10/10 [==============================] - 10s 994ms/step - loss: 0.2020 - acc: 0.9333 - val_loss: 0.5186 - val_acc: 0.8289\n",
      "Epoch 11/20\n",
      "10/10 [==============================] - 10s 982ms/step - loss: 0.3917 - acc: 0.8485 - val_loss: 0.4481 - val_acc: 0.7982\n",
      "Epoch 12/20\n",
      "10/10 [==============================] - 8s 827ms/step - loss: 0.2757 - acc: 0.9083 - val_loss: 0.5526 - val_acc: 0.7632\n",
      "Epoch 13/20\n",
      "10/10 [==============================] - 10s 969ms/step - loss: 0.2835 - acc: 0.9000 - val_loss: 0.6131 - val_acc: 0.6974\n",
      "Epoch 14/20\n",
      "10/10 [==============================] - 14s 1s/step - loss: 0.3015 - acc: 0.8875 - val_loss: 0.5410 - val_acc: 0.7281\n",
      "Epoch 15/20\n",
      "10/10 [==============================] - 11s 1s/step - loss: 0.2720 - acc: 0.9000 - val_loss: 0.4017 - val_acc: 0.8158\n",
      "Epoch 16/20\n",
      "10/10 [==============================] - 8s 786ms/step - loss: 0.2848 - acc: 0.8750 - val_loss: 0.3384 - val_acc: 0.8860\n",
      "Epoch 17/20\n",
      "10/10 [==============================] - 10s 1s/step - loss: 0.2644 - acc: 0.8954 - val_loss: 0.4785 - val_acc: 0.7807\n",
      "Epoch 18/20\n",
      "10/10 [==============================] - 10s 963ms/step - loss: 0.2425 - acc: 0.8909 - val_loss: 0.3229 - val_acc: 0.8728\n",
      "Epoch 19/20\n",
      "10/10 [==============================] - 9s 889ms/step - loss: 0.1997 - acc: 0.9208 - val_loss: 0.6399 - val_acc: 0.7632\n",
      "Epoch 20/20\n",
      "10/10 [==============================] - 9s 923ms/step - loss: 0.2223 - acc: 0.9167 - val_loss: 0.3733 - val_acc: 0.8640\n"
     ]
    }
   ],
   "source": [
    "history_2 = model.fit_generator(\n",
    "      train_generator,\n",
    "      steps_per_epoch=10,\n",
    "      epochs=20,\n",
    "      validation_data=validation_generator,\n",
    "      validation_steps=10)"
   ]
  },
  {
   "cell_type": "markdown",
   "metadata": {},
   "source": [
    "\n",
    "## 8. Conclusion\n",
    "\n",
    "A deeper network drastically improves the performance on our data set with Santa images!\n"
   ]
  }
 ],
 "metadata": {
  "coursera": {
   "course_slug": "neural-networks-deep-learning",
   "graded_item_id": "c4HO0",
   "launcher_item_id": "lSYZM"
  },
  "kernelspec": {
   "display_name": "Python 3",
   "language": "python",
   "name": "python3"
  },
  "language_info": {
   "codemirror_mode": {
    "name": "ipython",
    "version": 3
   },
   "file_extension": ".py",
   "mimetype": "text/x-python",
   "name": "python",
   "nbconvert_exporter": "python",
   "pygments_lexer": "ipython3",
   "version": "3.6.4"
  }
 },
 "nbformat": 4,
 "nbformat_minor": 1
}
